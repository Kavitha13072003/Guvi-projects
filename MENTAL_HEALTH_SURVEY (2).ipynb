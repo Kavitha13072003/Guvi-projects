{
  "nbformat": 4,
  "nbformat_minor": 0,
  "metadata": {
    "colab": {
      "provenance": []
    },
    "kernelspec": {
      "name": "python3",
      "display_name": "Python 3"
    },
    "language_info": {
      "name": "python"
    }
  },
  "cells": [
    {
      "cell_type": "code",
      "execution_count": 12,
      "metadata": {
        "colab": {
          "base_uri": "https://localhost:8080/",
          "height": 142
        },
        "id": "TWv9lFF5XqsM",
        "outputId": "35c7d22e-04c2-4c34-c6a1-f0fd6531d15c"
      },
      "outputs": [
        {
          "output_type": "display_data",
          "data": {
            "text/plain": [
              "<IPython.core.display.HTML object>"
            ],
            "text/html": [
              "\n",
              "     <input type=\"file\" id=\"files-1104b2fa-f2d5-466a-be12-a27990b26abb\" name=\"files[]\" multiple disabled\n",
              "        style=\"border:none\" />\n",
              "     <output id=\"result-1104b2fa-f2d5-466a-be12-a27990b26abb\">\n",
              "      Upload widget is only available when the cell has been executed in the\n",
              "      current browser session. Please rerun this cell to enable.\n",
              "      </output>\n",
              "      <script>// Copyright 2017 Google LLC\n",
              "//\n",
              "// Licensed under the Apache License, Version 2.0 (the \"License\");\n",
              "// you may not use this file except in compliance with the License.\n",
              "// You may obtain a copy of the License at\n",
              "//\n",
              "//      http://www.apache.org/licenses/LICENSE-2.0\n",
              "//\n",
              "// Unless required by applicable law or agreed to in writing, software\n",
              "// distributed under the License is distributed on an \"AS IS\" BASIS,\n",
              "// WITHOUT WARRANTIES OR CONDITIONS OF ANY KIND, either express or implied.\n",
              "// See the License for the specific language governing permissions and\n",
              "// limitations under the License.\n",
              "\n",
              "/**\n",
              " * @fileoverview Helpers for google.colab Python module.\n",
              " */\n",
              "(function(scope) {\n",
              "function span(text, styleAttributes = {}) {\n",
              "  const element = document.createElement('span');\n",
              "  element.textContent = text;\n",
              "  for (const key of Object.keys(styleAttributes)) {\n",
              "    element.style[key] = styleAttributes[key];\n",
              "  }\n",
              "  return element;\n",
              "}\n",
              "\n",
              "// Max number of bytes which will be uploaded at a time.\n",
              "const MAX_PAYLOAD_SIZE = 100 * 1024;\n",
              "\n",
              "function _uploadFiles(inputId, outputId) {\n",
              "  const steps = uploadFilesStep(inputId, outputId);\n",
              "  const outputElement = document.getElementById(outputId);\n",
              "  // Cache steps on the outputElement to make it available for the next call\n",
              "  // to uploadFilesContinue from Python.\n",
              "  outputElement.steps = steps;\n",
              "\n",
              "  return _uploadFilesContinue(outputId);\n",
              "}\n",
              "\n",
              "// This is roughly an async generator (not supported in the browser yet),\n",
              "// where there are multiple asynchronous steps and the Python side is going\n",
              "// to poll for completion of each step.\n",
              "// This uses a Promise to block the python side on completion of each step,\n",
              "// then passes the result of the previous step as the input to the next step.\n",
              "function _uploadFilesContinue(outputId) {\n",
              "  const outputElement = document.getElementById(outputId);\n",
              "  const steps = outputElement.steps;\n",
              "\n",
              "  const next = steps.next(outputElement.lastPromiseValue);\n",
              "  return Promise.resolve(next.value.promise).then((value) => {\n",
              "    // Cache the last promise value to make it available to the next\n",
              "    // step of the generator.\n",
              "    outputElement.lastPromiseValue = value;\n",
              "    return next.value.response;\n",
              "  });\n",
              "}\n",
              "\n",
              "/**\n",
              " * Generator function which is called between each async step of the upload\n",
              " * process.\n",
              " * @param {string} inputId Element ID of the input file picker element.\n",
              " * @param {string} outputId Element ID of the output display.\n",
              " * @return {!Iterable<!Object>} Iterable of next steps.\n",
              " */\n",
              "function* uploadFilesStep(inputId, outputId) {\n",
              "  const inputElement = document.getElementById(inputId);\n",
              "  inputElement.disabled = false;\n",
              "\n",
              "  const outputElement = document.getElementById(outputId);\n",
              "  outputElement.innerHTML = '';\n",
              "\n",
              "  const pickedPromise = new Promise((resolve) => {\n",
              "    inputElement.addEventListener('change', (e) => {\n",
              "      resolve(e.target.files);\n",
              "    });\n",
              "  });\n",
              "\n",
              "  const cancel = document.createElement('button');\n",
              "  inputElement.parentElement.appendChild(cancel);\n",
              "  cancel.textContent = 'Cancel upload';\n",
              "  const cancelPromise = new Promise((resolve) => {\n",
              "    cancel.onclick = () => {\n",
              "      resolve(null);\n",
              "    };\n",
              "  });\n",
              "\n",
              "  // Wait for the user to pick the files.\n",
              "  const files = yield {\n",
              "    promise: Promise.race([pickedPromise, cancelPromise]),\n",
              "    response: {\n",
              "      action: 'starting',\n",
              "    }\n",
              "  };\n",
              "\n",
              "  cancel.remove();\n",
              "\n",
              "  // Disable the input element since further picks are not allowed.\n",
              "  inputElement.disabled = true;\n",
              "\n",
              "  if (!files) {\n",
              "    return {\n",
              "      response: {\n",
              "        action: 'complete',\n",
              "      }\n",
              "    };\n",
              "  }\n",
              "\n",
              "  for (const file of files) {\n",
              "    const li = document.createElement('li');\n",
              "    li.append(span(file.name, {fontWeight: 'bold'}));\n",
              "    li.append(span(\n",
              "        `(${file.type || 'n/a'}) - ${file.size} bytes, ` +\n",
              "        `last modified: ${\n",
              "            file.lastModifiedDate ? file.lastModifiedDate.toLocaleDateString() :\n",
              "                                    'n/a'} - `));\n",
              "    const percent = span('0% done');\n",
              "    li.appendChild(percent);\n",
              "\n",
              "    outputElement.appendChild(li);\n",
              "\n",
              "    const fileDataPromise = new Promise((resolve) => {\n",
              "      const reader = new FileReader();\n",
              "      reader.onload = (e) => {\n",
              "        resolve(e.target.result);\n",
              "      };\n",
              "      reader.readAsArrayBuffer(file);\n",
              "    });\n",
              "    // Wait for the data to be ready.\n",
              "    let fileData = yield {\n",
              "      promise: fileDataPromise,\n",
              "      response: {\n",
              "        action: 'continue',\n",
              "      }\n",
              "    };\n",
              "\n",
              "    // Use a chunked sending to avoid message size limits. See b/62115660.\n",
              "    let position = 0;\n",
              "    do {\n",
              "      const length = Math.min(fileData.byteLength - position, MAX_PAYLOAD_SIZE);\n",
              "      const chunk = new Uint8Array(fileData, position, length);\n",
              "      position += length;\n",
              "\n",
              "      const base64 = btoa(String.fromCharCode.apply(null, chunk));\n",
              "      yield {\n",
              "        response: {\n",
              "          action: 'append',\n",
              "          file: file.name,\n",
              "          data: base64,\n",
              "        },\n",
              "      };\n",
              "\n",
              "      let percentDone = fileData.byteLength === 0 ?\n",
              "          100 :\n",
              "          Math.round((position / fileData.byteLength) * 100);\n",
              "      percent.textContent = `${percentDone}% done`;\n",
              "\n",
              "    } while (position < fileData.byteLength);\n",
              "  }\n",
              "\n",
              "  // All done.\n",
              "  yield {\n",
              "    response: {\n",
              "      action: 'complete',\n",
              "    }\n",
              "  };\n",
              "}\n",
              "\n",
              "scope.google = scope.google || {};\n",
              "scope.google.colab = scope.google.colab || {};\n",
              "scope.google.colab._files = {\n",
              "  _uploadFiles,\n",
              "  _uploadFilesContinue,\n",
              "};\n",
              "})(self);\n",
              "</script> "
            ]
          },
          "metadata": {}
        },
        {
          "output_type": "stream",
          "name": "stdout",
          "text": [
            "Saving sample_submission.csv to sample_submission.csv\n",
            "Saving test.csv to test (1).csv\n",
            "Saving train.csv to train.csv\n"
          ]
        }
      ],
      "source": [
        "from google.colab import files\n",
        "uploaded = files.upload()\n",
        "\n"
      ]
    },
    {
      "cell_type": "code",
      "source": [
        "print(uploaded.keys())\n",
        "\n"
      ],
      "metadata": {
        "colab": {
          "base_uri": "https://localhost:8080/"
        },
        "id": "_leZTa_BX5Y9",
        "outputId": "4ce9e82a-ce42-4c3e-8d3e-cb838065b492"
      },
      "execution_count": 13,
      "outputs": [
        {
          "output_type": "stream",
          "name": "stdout",
          "text": [
            "dict_keys(['sample_submission.csv', 'test (1).csv', 'train.csv'])\n"
          ]
        }
      ]
    },
    {
      "cell_type": "code",
      "source": [
        "import pandas as pd\n",
        "\n",
        "train = pd.read_csv('train.csv')\n",
        "test = pd.read_csv('test.csv')\n",
        "sample_submission = pd.read_csv('sample_submission.csv')\n",
        "\n",
        "\n"
      ],
      "metadata": {
        "id": "XGevHVX2YSvx"
      },
      "execution_count": 15,
      "outputs": []
    },
    {
      "cell_type": "code",
      "source": [
        "print(train.columns)\n",
        "print(test.columns)\n"
      ],
      "metadata": {
        "colab": {
          "base_uri": "https://localhost:8080/"
        },
        "id": "lIqqTYv-cJDS",
        "outputId": "6e32c5f4-48d4-45ad-93af-274baec79dc8"
      },
      "execution_count": 16,
      "outputs": [
        {
          "output_type": "stream",
          "name": "stdout",
          "text": [
            "Index(['id', 'Name', 'Gender', 'Age', 'City',\n",
            "       'Working Professional or Student', 'Profession', 'Academic Pressure',\n",
            "       'Work Pressure', 'CGPA', 'Study Satisfaction', 'Job Satisfaction',\n",
            "       'Sleep Duration', 'Dietary Habits', 'Degree',\n",
            "       'Have you ever had suicidal thoughts ?', 'Work/Study Hours',\n",
            "       'Financial Stress', 'Family History of Mental Illness', 'Depression'],\n",
            "      dtype='object')\n",
            "Index(['id', 'Name', 'Gender', 'Age', 'City',\n",
            "       'Working Professional or Student', 'Profession', 'Academic Pressure',\n",
            "       'Work Pressure', 'CGPA', 'Study Satisfaction', 'Job Satisfaction',\n",
            "       'Sleep Duration', 'Dietary Habits', 'Degree',\n",
            "       'Have you ever had suicidal thoughts ?', 'Work/Study Hours',\n",
            "       'Financial Stress', 'Family History of Mental Illness'],\n",
            "      dtype='object')\n"
          ]
        }
      ]
    },
    {
      "cell_type": "code",
      "source": [
        "print(train['Sleep Duration'].unique())\n",
        "\n"
      ],
      "metadata": {
        "colab": {
          "base_uri": "https://localhost:8080/"
        },
        "id": "nYOvZiEPYuVa",
        "outputId": "1b20f554-5f50-42d4-aaa1-e41112e31511"
      },
      "execution_count": 17,
      "outputs": [
        {
          "output_type": "stream",
          "name": "stdout",
          "text": [
            "['More than 8 hours' 'Less than 5 hours' '5-6 hours' '7-8 hours'\n",
            " 'Sleep_Duration' '1-2 hours' '6-8 hours' '4-6 hours' '6-7 hours'\n",
            " '10-11 hours' '8-9 hours' '40-45 hours' '9-11 hours' '2-3 hours'\n",
            " '3-4 hours' 'Moderate' '55-66 hours' '4-5 hours' '9-6 hours' '1-3 hours'\n",
            " 'Indore' '45' '1-6 hours' '35-36 hours' '8 hours' 'No' '10-6 hours'\n",
            " 'than 5 hours' '49 hours' 'Unhealthy' 'Work_Study_Hours' '3-6 hours'\n",
            " '45-48 hours' '9-5' 'Pune' '9-5 hours']\n"
          ]
        }
      ]
    },
    {
      "cell_type": "code",
      "source": [
        "print(test['Sleep Duration'].unique())\n",
        "\n"
      ],
      "metadata": {
        "colab": {
          "base_uri": "https://localhost:8080/"
        },
        "id": "cC9-C_QNYzyE",
        "outputId": "35842dc5-6cc1-4589-f55c-30d99336e73b"
      },
      "execution_count": 18,
      "outputs": [
        {
          "output_type": "stream",
          "name": "stdout",
          "text": [
            "['Less than 5 hours' '7-8 hours' 'More than 8 hours' '5-6 hours' '0'\n",
            " 'Meerut' '9-5 hours' '6-7 hours' '60-65 hours' 'Vivan' '3-4 hours'\n",
            " '1-6 hours' '9-5' 'Unhealthy' '8-9 hours' '4-5 hours' 'than 5 hours'\n",
            " '9-6 hours' '1-2 hours' '8-89 hours'\n",
            " 'Have_you_ever_had_suicidal_thoughts' '20-21 hours' '10-6 hours'\n",
            " '1-3 hours' '6 hours' '50-75 hours' '4-6 hours' '2-3 hours' '9-11 hours'\n",
            " '9-10 hours' '3-6 hours']\n"
          ]
        }
      ]
    },
    {
      "cell_type": "code",
      "source": [
        "print(train['Sleep Duration'].unique())\n"
      ],
      "metadata": {
        "colab": {
          "base_uri": "https://localhost:8080/"
        },
        "id": "hOx9ZWS4c1NY",
        "outputId": "8039e7b7-2893-4e2b-9bdf-84e584fa795a"
      },
      "execution_count": 20,
      "outputs": [
        {
          "output_type": "stream",
          "name": "stdout",
          "text": [
            "['More than 8 hours' 'Less than 5 hours' '5-6 hours' '7-8 hours'\n",
            " 'Sleep_Duration' '1-2 hours' '6-8 hours' '4-6 hours' '6-7 hours'\n",
            " '10-11 hours' '8-9 hours' '40-45 hours' '9-11 hours' '2-3 hours'\n",
            " '3-4 hours' 'Moderate' '55-66 hours' '4-5 hours' '9-6 hours' '1-3 hours'\n",
            " 'Indore' '45' '1-6 hours' '35-36 hours' '8 hours' 'No' '10-6 hours'\n",
            " 'than 5 hours' '49 hours' 'Unhealthy' 'Work_Study_Hours' '3-6 hours'\n",
            " '45-48 hours' '9-5' 'Pune' '9-5 hours']\n"
          ]
        }
      ]
    },
    {
      "cell_type": "code",
      "source": [
        "print(data['Sleep Duration'].unique())\n"
      ],
      "metadata": {
        "colab": {
          "base_uri": "https://localhost:8080/"
        },
        "id": "d8qA3N10ZzEa",
        "outputId": "7cbc0661-6a0b-4370-dfb3-5e398682c899"
      },
      "execution_count": 23,
      "outputs": [
        {
          "output_type": "stream",
          "name": "stdout",
          "text": [
            "[4 7.5 'More than 8 hours' 5.5 '0' 'Meerut' '9-5 hours' 6.5 '60-65 hours'\n",
            " 'Vivan' '3-4 hours' '1-6 hours' '9-5' 'Unhealthy' '8-9 hours' '4-5 hours'\n",
            " 'than 5 hours' '9-6 hours' '1-2 hours' '8-89 hours'\n",
            " 'Have_you_ever_had_suicidal_thoughts' '20-21 hours' '10-6 hours'\n",
            " '1-3 hours' 6 '50-75 hours' '4-6 hours' '2-3 hours' '9-11 hours'\n",
            " '9-10 hours' '3-6 hours']\n"
          ]
        }
      ]
    },
    {
      "cell_type": "code",
      "source": [
        "train = train.drop('Sleep Duration', axis=1)\n",
        "test = test.drop('Sleep Duration', axis=1)\n"
      ],
      "metadata": {
        "id": "aQdixA0ieId7"
      },
      "execution_count": 24,
      "outputs": []
    },
    {
      "cell_type": "code",
      "source": [
        "print(train.columns)\n"
      ],
      "metadata": {
        "colab": {
          "base_uri": "https://localhost:8080/"
        },
        "id": "XQuebN4BeOwS",
        "outputId": "6b206256-95a1-461a-855f-27796e6c22e4"
      },
      "execution_count": 25,
      "outputs": [
        {
          "output_type": "stream",
          "name": "stdout",
          "text": [
            "Index(['id', 'Name', 'Gender', 'Age', 'City',\n",
            "       'Working Professional or Student', 'Profession', 'Academic Pressure',\n",
            "       'Work Pressure', 'CGPA', 'Study Satisfaction', 'Job Satisfaction',\n",
            "       'Dietary Habits', 'Degree', 'Have you ever had suicidal thoughts ?',\n",
            "       'Work/Study Hours', 'Financial Stress',\n",
            "       'Family History of Mental Illness', 'Depression'],\n",
            "      dtype='object')\n"
          ]
        }
      ]
    },
    {
      "cell_type": "code",
      "source": [
        "train = train[['Age', 'Gender', 'Academic Pressure', 'Work Pressure', 'Depression']]\n",
        "test = test[['Age', 'Gender', 'Academic Pressure', 'Work Pressure']]\n"
      ],
      "metadata": {
        "id": "ohkQ-FUtefQ0"
      },
      "execution_count": 26,
      "outputs": []
    },
    {
      "cell_type": "code",
      "source": [
        "from sklearn.preprocessing import LabelEncoder\n",
        "\n",
        "le = LabelEncoder()\n",
        "for col in ['Gender', 'Academic Pressure', 'Work Pressure']:\n",
        "    train[col] = le.fit_transform(train[col])\n",
        "    test[col] = le.transform(test[col])\n"
      ],
      "metadata": {
        "id": "0bBZ9ZaRelMh"
      },
      "execution_count": 27,
      "outputs": []
    },
    {
      "cell_type": "code",
      "source": [
        "from sklearn.preprocessing import StandardScaler\n",
        "\n",
        "scaler = StandardScaler()\n",
        "train[['Age']] = scaler.fit_transform(train[['Age']])\n",
        "test[['Age']] = scaler.transform(test[['Age']])\n"
      ],
      "metadata": {
        "id": "NsV4e6s_erUO"
      },
      "execution_count": 28,
      "outputs": []
    },
    {
      "cell_type": "code",
      "source": [
        "X_train = train.drop('Depression', axis=1)\n",
        "y_train = train['Depression']\n"
      ],
      "metadata": {
        "id": "J3Sd6L4vew7W"
      },
      "execution_count": 29,
      "outputs": []
    },
    {
      "cell_type": "code",
      "source": [
        "from tensorflow.keras.models import Sequential\n",
        "from tensorflow.keras.layers import Dense\n",
        "\n",
        "model = Sequential()\n",
        "model.add(Dense(16, activation='relu', input_dim=X_train.shape[1]))\n",
        "model.add(Dense(8, activation='relu'))\n",
        "model.add(Dense(1, activation='sigmoid'))\n",
        "\n",
        "model.compile(optimizer='adam', loss='binary_crossentropy', metrics=['accuracy'])\n",
        "model.fit(X_train, y_train, epochs=50, batch_size=10)\n"
      ],
      "metadata": {
        "colab": {
          "base_uri": "https://localhost:8080/"
        },
        "id": "FBeft6X0e2H4",
        "outputId": "f8135761-a0a6-4e37-9fd6-dcea68208505"
      },
      "execution_count": 30,
      "outputs": [
        {
          "output_type": "stream",
          "name": "stderr",
          "text": [
            "/usr/local/lib/python3.11/dist-packages/keras/src/layers/core/dense.py:87: UserWarning: Do not pass an `input_shape`/`input_dim` argument to a layer. When using Sequential models, prefer using an `Input(shape)` object as the first layer in the model instead.\n",
            "  super().__init__(activity_regularizer=activity_regularizer, **kwargs)\n"
          ]
        },
        {
          "output_type": "stream",
          "name": "stdout",
          "text": [
            "Epoch 1/50\n",
            "\u001b[1m14070/14070\u001b[0m \u001b[32m━━━━━━━━━━━━━━━━━━━━\u001b[0m\u001b[37m\u001b[0m \u001b[1m30s\u001b[0m 2ms/step - accuracy: 0.8849 - loss: 0.2601\n",
            "Epoch 2/50\n",
            "\u001b[1m14070/14070\u001b[0m \u001b[32m━━━━━━━━━━━━━━━━━━━━\u001b[0m\u001b[37m\u001b[0m \u001b[1m42s\u001b[0m 2ms/step - accuracy: 0.8969 - loss: 0.2356\n",
            "Epoch 3/50\n",
            "\u001b[1m14070/14070\u001b[0m \u001b[32m━━━━━━━━━━━━━━━━━━━━\u001b[0m\u001b[37m\u001b[0m \u001b[1m28s\u001b[0m 2ms/step - accuracy: 0.8977 - loss: 0.2343\n",
            "Epoch 4/50\n",
            "\u001b[1m14070/14070\u001b[0m \u001b[32m━━━━━━━━━━━━━━━━━━━━\u001b[0m\u001b[37m\u001b[0m \u001b[1m41s\u001b[0m 2ms/step - accuracy: 0.8986 - loss: 0.2335\n",
            "Epoch 5/50\n",
            "\u001b[1m14070/14070\u001b[0m \u001b[32m━━━━━━━━━━━━━━━━━━━━\u001b[0m\u001b[37m\u001b[0m \u001b[1m41s\u001b[0m 2ms/step - accuracy: 0.8984 - loss: 0.2334\n",
            "Epoch 6/50\n",
            "\u001b[1m14070/14070\u001b[0m \u001b[32m━━━━━━━━━━━━━━━━━━━━\u001b[0m\u001b[37m\u001b[0m \u001b[1m28s\u001b[0m 2ms/step - accuracy: 0.8980 - loss: 0.2348\n",
            "Epoch 7/50\n",
            "\u001b[1m14070/14070\u001b[0m \u001b[32m━━━━━━━━━━━━━━━━━━━━\u001b[0m\u001b[37m\u001b[0m \u001b[1m28s\u001b[0m 2ms/step - accuracy: 0.8967 - loss: 0.2352\n",
            "Epoch 8/50\n",
            "\u001b[1m14070/14070\u001b[0m \u001b[32m━━━━━━━━━━━━━━━━━━━━\u001b[0m\u001b[37m\u001b[0m \u001b[1m41s\u001b[0m 2ms/step - accuracy: 0.8980 - loss: 0.2333\n",
            "Epoch 9/50\n",
            "\u001b[1m14070/14070\u001b[0m \u001b[32m━━━━━━━━━━━━━━━━━━━━\u001b[0m\u001b[37m\u001b[0m \u001b[1m29s\u001b[0m 2ms/step - accuracy: 0.8981 - loss: 0.2322\n",
            "Epoch 10/50\n",
            "\u001b[1m14070/14070\u001b[0m \u001b[32m━━━━━━━━━━━━━━━━━━━━\u001b[0m\u001b[37m\u001b[0m \u001b[1m28s\u001b[0m 2ms/step - accuracy: 0.8989 - loss: 0.2335\n",
            "Epoch 11/50\n",
            "\u001b[1m14070/14070\u001b[0m \u001b[32m━━━━━━━━━━━━━━━━━━━━\u001b[0m\u001b[37m\u001b[0m \u001b[1m28s\u001b[0m 2ms/step - accuracy: 0.8978 - loss: 0.2347\n",
            "Epoch 12/50\n",
            "\u001b[1m14070/14070\u001b[0m \u001b[32m━━━━━━━━━━━━━━━━━━━━\u001b[0m\u001b[37m\u001b[0m \u001b[1m30s\u001b[0m 2ms/step - accuracy: 0.8990 - loss: 0.2335\n",
            "Epoch 13/50\n",
            "\u001b[1m14070/14070\u001b[0m \u001b[32m━━━━━━━━━━━━━━━━━━━━\u001b[0m\u001b[37m\u001b[0m \u001b[1m41s\u001b[0m 2ms/step - accuracy: 0.8966 - loss: 0.2353\n",
            "Epoch 14/50\n",
            "\u001b[1m14070/14070\u001b[0m \u001b[32m━━━━━━━━━━━━━━━━━━━━\u001b[0m\u001b[37m\u001b[0m \u001b[1m31s\u001b[0m 2ms/step - accuracy: 0.8997 - loss: 0.2311\n",
            "Epoch 15/50\n",
            "\u001b[1m14070/14070\u001b[0m \u001b[32m━━━━━━━━━━━━━━━━━━━━\u001b[0m\u001b[37m\u001b[0m \u001b[1m39s\u001b[0m 2ms/step - accuracy: 0.8991 - loss: 0.2321\n",
            "Epoch 16/50\n",
            "\u001b[1m14070/14070\u001b[0m \u001b[32m━━━━━━━━━━━━━━━━━━━━\u001b[0m\u001b[37m\u001b[0m \u001b[1m30s\u001b[0m 2ms/step - accuracy: 0.8989 - loss: 0.2334\n",
            "Epoch 17/50\n",
            "\u001b[1m14070/14070\u001b[0m \u001b[32m━━━━━━━━━━━━━━━━━━━━\u001b[0m\u001b[37m\u001b[0m \u001b[1m39s\u001b[0m 2ms/step - accuracy: 0.8968 - loss: 0.2341\n",
            "Epoch 18/50\n",
            "\u001b[1m14070/14070\u001b[0m \u001b[32m━━━━━━━━━━━━━━━━━━━━\u001b[0m\u001b[37m\u001b[0m \u001b[1m28s\u001b[0m 2ms/step - accuracy: 0.8989 - loss: 0.2323\n",
            "Epoch 19/50\n",
            "\u001b[1m14070/14070\u001b[0m \u001b[32m━━━━━━━━━━━━━━━━━━━━\u001b[0m\u001b[37m\u001b[0m \u001b[1m28s\u001b[0m 2ms/step - accuracy: 0.8988 - loss: 0.2326\n",
            "Epoch 20/50\n",
            "\u001b[1m14070/14070\u001b[0m \u001b[32m━━━━━━━━━━━━━━━━━━━━\u001b[0m\u001b[37m\u001b[0m \u001b[1m42s\u001b[0m 2ms/step - accuracy: 0.8978 - loss: 0.2332\n",
            "Epoch 21/50\n",
            "\u001b[1m14070/14070\u001b[0m \u001b[32m━━━━━━━━━━━━━━━━━━━━\u001b[0m\u001b[37m\u001b[0m \u001b[1m40s\u001b[0m 2ms/step - accuracy: 0.8981 - loss: 0.2335\n",
            "Epoch 22/50\n",
            "\u001b[1m14070/14070\u001b[0m \u001b[32m━━━━━━━━━━━━━━━━━━━━\u001b[0m\u001b[37m\u001b[0m \u001b[1m41s\u001b[0m 2ms/step - accuracy: 0.8970 - loss: 0.2355\n",
            "Epoch 23/50\n",
            "\u001b[1m14070/14070\u001b[0m \u001b[32m━━━━━━━━━━━━━━━━━━━━\u001b[0m\u001b[37m\u001b[0m \u001b[1m29s\u001b[0m 2ms/step - accuracy: 0.8982 - loss: 0.2333\n",
            "Epoch 24/50\n",
            "\u001b[1m14070/14070\u001b[0m \u001b[32m━━━━━━━━━━━━━━━━━━━━\u001b[0m\u001b[37m\u001b[0m \u001b[1m40s\u001b[0m 2ms/step - accuracy: 0.8989 - loss: 0.2330\n",
            "Epoch 25/50\n",
            "\u001b[1m14070/14070\u001b[0m \u001b[32m━━━━━━━━━━━━━━━━━━━━\u001b[0m\u001b[37m\u001b[0m \u001b[1m28s\u001b[0m 2ms/step - accuracy: 0.8986 - loss: 0.2325\n",
            "Epoch 26/50\n",
            "\u001b[1m14070/14070\u001b[0m \u001b[32m━━━━━━━━━━━━━━━━━━━━\u001b[0m\u001b[37m\u001b[0m \u001b[1m28s\u001b[0m 2ms/step - accuracy: 0.8994 - loss: 0.2307\n",
            "Epoch 27/50\n",
            "\u001b[1m14070/14070\u001b[0m \u001b[32m━━━━━━━━━━━━━━━━━━━━\u001b[0m\u001b[37m\u001b[0m \u001b[1m28s\u001b[0m 2ms/step - accuracy: 0.8986 - loss: 0.2331\n",
            "Epoch 28/50\n",
            "\u001b[1m14070/14070\u001b[0m \u001b[32m━━━━━━━━━━━━━━━━━━━━\u001b[0m\u001b[37m\u001b[0m \u001b[1m43s\u001b[0m 2ms/step - accuracy: 0.8985 - loss: 0.2332\n",
            "Epoch 29/50\n",
            "\u001b[1m14070/14070\u001b[0m \u001b[32m━━━━━━━━━━━━━━━━━━━━\u001b[0m\u001b[37m\u001b[0m \u001b[1m40s\u001b[0m 2ms/step - accuracy: 0.8973 - loss: 0.2343\n",
            "Epoch 30/50\n",
            "\u001b[1m14070/14070\u001b[0m \u001b[32m━━━━━━━━━━━━━━━━━━━━\u001b[0m\u001b[37m\u001b[0m \u001b[1m40s\u001b[0m 2ms/step - accuracy: 0.8984 - loss: 0.2323\n",
            "Epoch 31/50\n",
            "\u001b[1m14070/14070\u001b[0m \u001b[32m━━━━━━━━━━━━━━━━━━━━\u001b[0m\u001b[37m\u001b[0m \u001b[1m29s\u001b[0m 2ms/step - accuracy: 0.8990 - loss: 0.2318\n",
            "Epoch 32/50\n",
            "\u001b[1m14070/14070\u001b[0m \u001b[32m━━━━━━━━━━━━━━━━━━━━\u001b[0m\u001b[37m\u001b[0m \u001b[1m30s\u001b[0m 2ms/step - accuracy: 0.8994 - loss: 0.2328\n",
            "Epoch 33/50\n",
            "\u001b[1m14070/14070\u001b[0m \u001b[32m━━━━━━━━━━━━━━━━━━━━\u001b[0m\u001b[37m\u001b[0m \u001b[1m40s\u001b[0m 2ms/step - accuracy: 0.8974 - loss: 0.2337\n",
            "Epoch 34/50\n",
            "\u001b[1m14070/14070\u001b[0m \u001b[32m━━━━━━━━━━━━━━━━━━━━\u001b[0m\u001b[37m\u001b[0m \u001b[1m41s\u001b[0m 2ms/step - accuracy: 0.8987 - loss: 0.2329\n",
            "Epoch 35/50\n",
            "\u001b[1m14070/14070\u001b[0m \u001b[32m━━━━━━━━━━━━━━━━━━━━\u001b[0m\u001b[37m\u001b[0m \u001b[1m28s\u001b[0m 2ms/step - accuracy: 0.8975 - loss: 0.2335\n",
            "Epoch 36/50\n",
            "\u001b[1m14070/14070\u001b[0m \u001b[32m━━━━━━━━━━━━━━━━━━━━\u001b[0m\u001b[37m\u001b[0m \u001b[1m29s\u001b[0m 2ms/step - accuracy: 0.8988 - loss: 0.2323\n",
            "Epoch 37/50\n",
            "\u001b[1m14070/14070\u001b[0m \u001b[32m━━━━━━━━━━━━━━━━━━━━\u001b[0m\u001b[37m\u001b[0m \u001b[1m40s\u001b[0m 2ms/step - accuracy: 0.8980 - loss: 0.2338\n",
            "Epoch 38/50\n",
            "\u001b[1m14070/14070\u001b[0m \u001b[32m━━━━━━━━━━━━━━━━━━━━\u001b[0m\u001b[37m\u001b[0m \u001b[1m40s\u001b[0m 2ms/step - accuracy: 0.8979 - loss: 0.2344\n",
            "Epoch 39/50\n",
            "\u001b[1m14070/14070\u001b[0m \u001b[32m━━━━━━━━━━━━━━━━━━━━\u001b[0m\u001b[37m\u001b[0m \u001b[1m28s\u001b[0m 2ms/step - accuracy: 0.8976 - loss: 0.2341\n",
            "Epoch 40/50\n",
            "\u001b[1m14070/14070\u001b[0m \u001b[32m━━━━━━━━━━━━━━━━━━━━\u001b[0m\u001b[37m\u001b[0m \u001b[1m29s\u001b[0m 2ms/step - accuracy: 0.8977 - loss: 0.2337\n",
            "Epoch 41/50\n",
            "\u001b[1m14070/14070\u001b[0m \u001b[32m━━━━━━━━━━━━━━━━━━━━\u001b[0m\u001b[37m\u001b[0m \u001b[1m41s\u001b[0m 2ms/step - accuracy: 0.8987 - loss: 0.2322\n",
            "Epoch 42/50\n",
            "\u001b[1m14070/14070\u001b[0m \u001b[32m━━━━━━━━━━━━━━━━━━━━\u001b[0m\u001b[37m\u001b[0m \u001b[1m40s\u001b[0m 2ms/step - accuracy: 0.8976 - loss: 0.2343\n",
            "Epoch 43/50\n",
            "\u001b[1m14070/14070\u001b[0m \u001b[32m━━━━━━━━━━━━━━━━━━━━\u001b[0m\u001b[37m\u001b[0m \u001b[1m28s\u001b[0m 2ms/step - accuracy: 0.8993 - loss: 0.2312\n",
            "Epoch 44/50\n",
            "\u001b[1m14070/14070\u001b[0m \u001b[32m━━━━━━━━━━━━━━━━━━━━\u001b[0m\u001b[37m\u001b[0m \u001b[1m41s\u001b[0m 2ms/step - accuracy: 0.8997 - loss: 0.2309\n",
            "Epoch 45/50\n",
            "\u001b[1m14070/14070\u001b[0m \u001b[32m━━━━━━━━━━━━━━━━━━━━\u001b[0m\u001b[37m\u001b[0m \u001b[1m42s\u001b[0m 2ms/step - accuracy: 0.8989 - loss: 0.2311\n",
            "Epoch 46/50\n",
            "\u001b[1m14070/14070\u001b[0m \u001b[32m━━━━━━━━━━━━━━━━━━━━\u001b[0m\u001b[37m\u001b[0m \u001b[1m40s\u001b[0m 2ms/step - accuracy: 0.8997 - loss: 0.2308\n",
            "Epoch 47/50\n",
            "\u001b[1m14070/14070\u001b[0m \u001b[32m━━━━━━━━━━━━━━━━━━━━\u001b[0m\u001b[37m\u001b[0m \u001b[1m40s\u001b[0m 2ms/step - accuracy: 0.8989 - loss: 0.2340\n",
            "Epoch 48/50\n",
            "\u001b[1m14070/14070\u001b[0m \u001b[32m━━━━━━━━━━━━━━━━━━━━\u001b[0m\u001b[37m\u001b[0m \u001b[1m42s\u001b[0m 2ms/step - accuracy: 0.8985 - loss: 0.2335\n",
            "Epoch 49/50\n",
            "\u001b[1m14070/14070\u001b[0m \u001b[32m━━━━━━━━━━━━━━━━━━━━\u001b[0m\u001b[37m\u001b[0m \u001b[1m39s\u001b[0m 2ms/step - accuracy: 0.8985 - loss: 0.2315\n",
            "Epoch 50/50\n",
            "\u001b[1m14070/14070\u001b[0m \u001b[32m━━━━━━━━━━━━━━━━━━━━\u001b[0m\u001b[37m\u001b[0m \u001b[1m29s\u001b[0m 2ms/step - accuracy: 0.8980 - loss: 0.2333\n"
          ]
        },
        {
          "output_type": "execute_result",
          "data": {
            "text/plain": [
              "<keras.src.callbacks.history.History at 0x7a9ea4b07110>"
            ]
          },
          "metadata": {},
          "execution_count": 30
        }
      ]
    },
    {
      "cell_type": "code",
      "source": [
        "predictions = model.predict(test)\n",
        "predictions = (predictions > 0.5).astype(int)\n"
      ],
      "metadata": {
        "colab": {
          "base_uri": "https://localhost:8080/"
        },
        "id": "kG95NlnElpz6",
        "outputId": "5059880a-cbff-41fc-eb7d-5a2dd654ef89"
      },
      "execution_count": 31,
      "outputs": [
        {
          "output_type": "stream",
          "name": "stdout",
          "text": [
            "\u001b[1m2932/2932\u001b[0m \u001b[32m━━━━━━━━━━━━━━━━━━━━\u001b[0m\u001b[37m\u001b[0m \u001b[1m4s\u001b[0m 1ms/step\n"
          ]
        }
      ]
    },
    {
      "cell_type": "code",
      "source": [
        "sample_submission['Depression'] = predictions\n",
        "sample_submission.to_csv('my_submission.csv', index=False)\n"
      ],
      "metadata": {
        "id": "Kxc2ppadl7mu"
      },
      "execution_count": 32,
      "outputs": []
    },
    {
      "cell_type": "code",
      "source": [
        "submission['Depression'] = predictions\n",
        "submission.to_csv('my_submission.csv', index=False)\n"
      ],
      "metadata": {
        "id": "nzQ2wRAnpPXR"
      },
      "execution_count": 45,
      "outputs": []
    },
    {
      "cell_type": "code",
      "source": [
        "files.download('my_submission.csv')\n"
      ],
      "metadata": {
        "colab": {
          "base_uri": "https://localhost:8080/",
          "height": 17
        },
        "id": "pO603szppW2r",
        "outputId": "30e81f7e-8daf-4b82-caa8-650c297b8437"
      },
      "execution_count": 46,
      "outputs": [
        {
          "output_type": "display_data",
          "data": {
            "text/plain": [
              "<IPython.core.display.Javascript object>"
            ],
            "application/javascript": [
              "\n",
              "    async function download(id, filename, size) {\n",
              "      if (!google.colab.kernel.accessAllowed) {\n",
              "        return;\n",
              "      }\n",
              "      const div = document.createElement('div');\n",
              "      const label = document.createElement('label');\n",
              "      label.textContent = `Downloading \"${filename}\": `;\n",
              "      div.appendChild(label);\n",
              "      const progress = document.createElement('progress');\n",
              "      progress.max = size;\n",
              "      div.appendChild(progress);\n",
              "      document.body.appendChild(div);\n",
              "\n",
              "      const buffers = [];\n",
              "      let downloaded = 0;\n",
              "\n",
              "      const channel = await google.colab.kernel.comms.open(id);\n",
              "      // Send a message to notify the kernel that we're ready.\n",
              "      channel.send({})\n",
              "\n",
              "      for await (const message of channel.messages) {\n",
              "        // Send a message to notify the kernel that we're ready.\n",
              "        channel.send({})\n",
              "        if (message.buffers) {\n",
              "          for (const buffer of message.buffers) {\n",
              "            buffers.push(buffer);\n",
              "            downloaded += buffer.byteLength;\n",
              "            progress.value = downloaded;\n",
              "          }\n",
              "        }\n",
              "      }\n",
              "      const blob = new Blob(buffers, {type: 'application/binary'});\n",
              "      const a = document.createElement('a');\n",
              "      a.href = window.URL.createObjectURL(blob);\n",
              "      a.download = filename;\n",
              "      div.appendChild(a);\n",
              "      a.click();\n",
              "      div.remove();\n",
              "    }\n",
              "  "
            ]
          },
          "metadata": {}
        },
        {
          "output_type": "display_data",
          "data": {
            "text/plain": [
              "<IPython.core.display.Javascript object>"
            ],
            "application/javascript": [
              "download(\"download_70993893-78ad-4b3b-a435-1f552f2bff14\", \"my_submission.csv\", 844214)"
            ]
          },
          "metadata": {}
        }
      ]
    }
  ]
}